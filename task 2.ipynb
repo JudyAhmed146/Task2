{
  "nbformat": 4,
  "nbformat_minor": 0,
  "metadata": {
    "colab": {
      "provenance": []
    },
    "kernelspec": {
      "name": "python3",
      "display_name": "Python 3"
    },
    "language_info": {
      "name": "python"
    }
  },
  "cells": [
    {
      "cell_type": "code",
      "source": [
        "temp=int(input(\"How is the wreather today?\"))\n",
        "temp=int(temp)\n",
        "if temp==30 :\n",
        "     print(\"It's a hot day. stay hydrated\")\n",
        "elif temp>=20 :\n",
        "       print(\"Its a warm day . Enjoy the weather\")\n",
        "elif temp>=10 :\n",
        "            print(\"Its a cool day. Wear a jacket\")\n",
        "else:\n",
        "  print(\"Its a cold day. Stay warm\")"
      ],
      "metadata": {
        "colab": {
          "base_uri": "https://localhost:8080/"
        },
        "id": "xGUrPZUu3B1p",
        "outputId": "9206e31a-1670-41d4-cc3f-ec6ac4d22aa0"
      },
      "execution_count": 20,
      "outputs": [
        {
          "output_type": "stream",
          "name": "stdout",
          "text": [
            "How is the wreather today?9\n",
            "Its a cold day. Stay warm\n"
          ]
        }
      ]
    },
    {
      "cell_type": "code",
      "source": [
        "for i in range(1,21):\n",
        "  if i % 3 == 0:\n",
        "    print(i)\n",
        "\n"
      ],
      "metadata": {
        "colab": {
          "base_uri": "https://localhost:8080/"
        },
        "id": "Ft75R4qPz5DD",
        "outputId": "c5ba8401-e610-42bc-c460-ada71c87cb88"
      },
      "execution_count": 6,
      "outputs": [
        {
          "output_type": "stream",
          "name": "stdout",
          "text": [
            "3\n",
            "6\n",
            "9\n",
            "12\n",
            "15\n",
            "18\n"
          ]
        }
      ]
    }
  ]
}